{
  "nbformat": 4,
  "nbformat_minor": 0,
  "metadata": {
    "colab": {
      "name": "Transfer_Learning.ipynb",
      "provenance": [],
      "include_colab_link": true
    },
    "kernelspec": {
      "name": "python3",
      "display_name": "Python 3"
    },
    "language_info": {
      "name": "python"
    },
    "accelerator": "GPU"
  },
  "cells": [
    {
      "cell_type": "markdown",
      "metadata": {
        "id": "view-in-github",
        "colab_type": "text"
      },
      "source": [
        "<a href=\"https://colab.research.google.com/github/deathreaper17/C-Plus-Plus/blob/master/Transfer_Learning.ipynb\" target=\"_parent\"><img src=\"https://colab.research.google.com/assets/colab-badge.svg\" alt=\"Open In Colab\"/></a>"
      ]
    },
    {
      "cell_type": "code",
      "execution_count": 1,
      "metadata": {
        "id": "H62sZMvpR8RA"
      },
      "outputs": [],
      "source": [
        "import  numpy as np\n",
        "import tensorflow as tf\n",
        "import keras\n",
        "from keras.layers import Dense, Flatten\n",
        "from keras.models import Sequential"
      ]
    },
    {
      "cell_type": "code",
      "source": [
        "(X_train_full,y_train_full),(X_test,y_test)= tf.keras.datasets.fashion_mnist.load_data()\n",
        "X_train_full=X_train_full/ 255.0\n",
        "X_test=X_test/255.0\n",
        "X_valid, X_train=X_train_full[:5000], X_train_full[5000:]\n",
        "y_valid, y_train=y_train_full[:5000], y_train_full[5000:]"
      ],
      "metadata": {
        "id": "IP22dR6uXgxK",
        "colab": {
          "base_uri": "https://localhost:8080/"
        },
        "outputId": "a218bcb7-d84a-429d-9d27-af6f5c0da282"
      },
      "execution_count": 2,
      "outputs": [
        {
          "output_type": "stream",
          "name": "stdout",
          "text": [
            "Downloading data from https://storage.googleapis.com/tensorflow/tf-keras-datasets/train-labels-idx1-ubyte.gz\n",
            "32768/29515 [=================================] - 0s 0us/step\n",
            "40960/29515 [=========================================] - 0s 0us/step\n",
            "Downloading data from https://storage.googleapis.com/tensorflow/tf-keras-datasets/train-images-idx3-ubyte.gz\n",
            "26427392/26421880 [==============================] - 0s 0us/step\n",
            "26435584/26421880 [==============================] - 0s 0us/step\n",
            "Downloading data from https://storage.googleapis.com/tensorflow/tf-keras-datasets/t10k-labels-idx1-ubyte.gz\n",
            "16384/5148 [===============================================================================================] - 0s 0us/step\n",
            "Downloading data from https://storage.googleapis.com/tensorflow/tf-keras-datasets/t10k-images-idx3-ubyte.gz\n",
            "4423680/4422102 [==============================] - 0s 0us/step\n",
            "4431872/4422102 [==============================] - 0s 0us/step\n"
          ]
        }
      ]
    },
    {
      "cell_type": "code",
      "source": [
        "from google.colab import drive\n",
        "drive.mount('/content/drive')"
      ],
      "metadata": {
        "colab": {
          "base_uri": "https://localhost:8080/",
          "height": 328
        },
        "id": "m6pR60divTkB",
        "outputId": "4e2111db-df38-4480-a420-635400d64f09"
      },
      "execution_count": 3,
      "outputs": [
        {
          "output_type": "error",
          "ename": "MessageError",
          "evalue": "ignored",
          "traceback": [
            "\u001b[0;31m---------------------------------------------------------------------------\u001b[0m",
            "\u001b[0;31mMessageError\u001b[0m                              Traceback (most recent call last)",
            "\u001b[0;32m<ipython-input-3-d5df0069828e>\u001b[0m in \u001b[0;36m<module>\u001b[0;34m()\u001b[0m\n\u001b[1;32m      1\u001b[0m \u001b[0;32mfrom\u001b[0m \u001b[0mgoogle\u001b[0m\u001b[0;34m.\u001b[0m\u001b[0mcolab\u001b[0m \u001b[0;32mimport\u001b[0m \u001b[0mdrive\u001b[0m\u001b[0;34m\u001b[0m\u001b[0;34m\u001b[0m\u001b[0m\n\u001b[0;32m----> 2\u001b[0;31m \u001b[0mdrive\u001b[0m\u001b[0;34m.\u001b[0m\u001b[0mmount\u001b[0m\u001b[0;34m(\u001b[0m\u001b[0;34m'/content/drive'\u001b[0m\u001b[0;34m)\u001b[0m\u001b[0;34m\u001b[0m\u001b[0;34m\u001b[0m\u001b[0m\n\u001b[0m",
            "\u001b[0;32m/usr/local/lib/python3.7/dist-packages/google/colab/drive.py\u001b[0m in \u001b[0;36mmount\u001b[0;34m(mountpoint, force_remount, timeout_ms)\u001b[0m\n\u001b[1;32m    103\u001b[0m       \u001b[0mforce_remount\u001b[0m\u001b[0;34m=\u001b[0m\u001b[0mforce_remount\u001b[0m\u001b[0;34m,\u001b[0m\u001b[0;34m\u001b[0m\u001b[0;34m\u001b[0m\u001b[0m\n\u001b[1;32m    104\u001b[0m       \u001b[0mtimeout_ms\u001b[0m\u001b[0;34m=\u001b[0m\u001b[0mtimeout_ms\u001b[0m\u001b[0;34m,\u001b[0m\u001b[0;34m\u001b[0m\u001b[0;34m\u001b[0m\u001b[0m\n\u001b[0;32m--> 105\u001b[0;31m       ephemeral=True)\n\u001b[0m\u001b[1;32m    106\u001b[0m \u001b[0;34m\u001b[0m\u001b[0m\n\u001b[1;32m    107\u001b[0m \u001b[0;34m\u001b[0m\u001b[0m\n",
            "\u001b[0;32m/usr/local/lib/python3.7/dist-packages/google/colab/drive.py\u001b[0m in \u001b[0;36m_mount\u001b[0;34m(mountpoint, force_remount, timeout_ms, ephemeral)\u001b[0m\n\u001b[1;32m    118\u001b[0m   \u001b[0;32mif\u001b[0m \u001b[0mephemeral\u001b[0m\u001b[0;34m:\u001b[0m\u001b[0;34m\u001b[0m\u001b[0;34m\u001b[0m\u001b[0m\n\u001b[1;32m    119\u001b[0m     _message.blocking_request(\n\u001b[0;32m--> 120\u001b[0;31m         'request_auth', request={'authType': 'dfs_ephemeral'}, timeout_sec=None)\n\u001b[0m\u001b[1;32m    121\u001b[0m \u001b[0;34m\u001b[0m\u001b[0m\n\u001b[1;32m    122\u001b[0m   \u001b[0mmountpoint\u001b[0m \u001b[0;34m=\u001b[0m \u001b[0m_os\u001b[0m\u001b[0;34m.\u001b[0m\u001b[0mpath\u001b[0m\u001b[0;34m.\u001b[0m\u001b[0mexpanduser\u001b[0m\u001b[0;34m(\u001b[0m\u001b[0mmountpoint\u001b[0m\u001b[0;34m)\u001b[0m\u001b[0;34m\u001b[0m\u001b[0;34m\u001b[0m\u001b[0m\n",
            "\u001b[0;32m/usr/local/lib/python3.7/dist-packages/google/colab/_message.py\u001b[0m in \u001b[0;36mblocking_request\u001b[0;34m(request_type, request, timeout_sec, parent)\u001b[0m\n\u001b[1;32m    169\u001b[0m   request_id = send_request(\n\u001b[1;32m    170\u001b[0m       request_type, request, parent=parent, expect_reply=True)\n\u001b[0;32m--> 171\u001b[0;31m   \u001b[0;32mreturn\u001b[0m \u001b[0mread_reply_from_input\u001b[0m\u001b[0;34m(\u001b[0m\u001b[0mrequest_id\u001b[0m\u001b[0;34m,\u001b[0m \u001b[0mtimeout_sec\u001b[0m\u001b[0;34m)\u001b[0m\u001b[0;34m\u001b[0m\u001b[0;34m\u001b[0m\u001b[0m\n\u001b[0m",
            "\u001b[0;32m/usr/local/lib/python3.7/dist-packages/google/colab/_message.py\u001b[0m in \u001b[0;36mread_reply_from_input\u001b[0;34m(message_id, timeout_sec)\u001b[0m\n\u001b[1;32m    100\u001b[0m         reply.get('colab_msg_id') == message_id):\n\u001b[1;32m    101\u001b[0m       \u001b[0;32mif\u001b[0m \u001b[0;34m'error'\u001b[0m \u001b[0;32min\u001b[0m \u001b[0mreply\u001b[0m\u001b[0;34m:\u001b[0m\u001b[0;34m\u001b[0m\u001b[0;34m\u001b[0m\u001b[0m\n\u001b[0;32m--> 102\u001b[0;31m         \u001b[0;32mraise\u001b[0m \u001b[0mMessageError\u001b[0m\u001b[0;34m(\u001b[0m\u001b[0mreply\u001b[0m\u001b[0;34m[\u001b[0m\u001b[0;34m'error'\u001b[0m\u001b[0;34m]\u001b[0m\u001b[0;34m)\u001b[0m\u001b[0;34m\u001b[0m\u001b[0;34m\u001b[0m\u001b[0m\n\u001b[0m\u001b[1;32m    103\u001b[0m       \u001b[0;32mreturn\u001b[0m \u001b[0mreply\u001b[0m\u001b[0;34m.\u001b[0m\u001b[0mget\u001b[0m\u001b[0;34m(\u001b[0m\u001b[0;34m'data'\u001b[0m\u001b[0;34m,\u001b[0m \u001b[0;32mNone\u001b[0m\u001b[0;34m)\u001b[0m\u001b[0;34m\u001b[0m\u001b[0;34m\u001b[0m\u001b[0m\n\u001b[1;32m    104\u001b[0m \u001b[0;34m\u001b[0m\u001b[0m\n",
            "\u001b[0;31mMessageError\u001b[0m: Error: credential propagation was unsuccessful"
          ]
        }
      ]
    },
    {
      "cell_type": "code",
      "source": [
        "\n",
        "len(X_train)"
      ],
      "metadata": {
        "id": "noXEwDzsX5W6"
      },
      "execution_count": null,
      "outputs": []
    },
    {
      "cell_type": "code",
      "source": [
        "def split_dataset(X,y):\n",
        "  y_5_or_6=(y==5)|(y==6)\n",
        "  y_A= y[~ y_5_or_6] # ~ is acting as a not gate.\n",
        "  y_A[y_A >6]\n",
        "  y_B=(y[y_5_or_6]==6).astype(np.float32)\n",
        "  return ((X[~y_5_or_6],y_A),(X[y_5_or_6],y_B))"
      ],
      "metadata": {
        "id": "MudC5PqKY85s"
      },
      "execution_count": null,
      "outputs": []
    },
    {
      "cell_type": "code",
      "source": [
        "y= (y_train==5)|(y_train==6)\n",
        "y"
      ],
      "metadata": {
        "id": "sdawPh8zZUoX"
      },
      "execution_count": null,
      "outputs": []
    },
    {
      "cell_type": "code",
      "source": [
        "(X_train_A,y_train_A),(X_train_B,y_train_B )=split_dataset(X_train,y_train)\n",
        "(X_valid_A,y_valid_A),(X_valid_B,y_valid_B)=split_dataset(X_valid,y_valid)\n",
        "(X_test_A,y_test_A),(X_test_B,y_test_B)=split_dataset(X_test,y_test)\n",
        "X_train_B=X_train_B[:200]\n",
        "y_train_B=y_train_B[:200]"
      ],
      "metadata": {
        "id": "sUgicqjVanXc"
      },
      "execution_count": null,
      "outputs": []
    },
    {
      "cell_type": "code",
      "source": [
        "\n",
        "def spliqt_dataset(y):\n",
        "  y_5_or_6=(y==5)|(y==6)\n",
        "  y_A= y[~ y_5_or_6] # ~ is acting as a not gate.\n",
        "  y_A[y_A >6]\n",
        "  y_B=(y[y_5_or_6]==6).astype(np.float32)\n",
        "  return y_A,y_B"
      ],
      "metadata": {
        "id": "-tPO0uYmIW84"
      },
      "execution_count": null,
      "outputs": []
    },
    {
      "cell_type": "code",
      "source": [
        "S=np.array([1,2,3,4,5,6,7,8,9,0]) \n",
        "ye, yf = spliqt_dataset(S)\n",
        "yf"
      ],
      "metadata": {
        "id": "L8zHAxa-GMs0"
      },
      "execution_count": null,
      "outputs": []
    },
    {
      "cell_type": "code",
      "source": [
        "print('\\n X_train_A.shape',X_train_A.shape)\n",
        "print('\\n X_train_B.shape',X_train_B.shape)\n",
        "print('\\n y_train_A[:30]',y_train_A[:30])\n",
        "print('\\n y_train_B[:30]',y_train_B[:30])"
      ],
      "metadata": {
        "id": "Gswo_3NPcsjV"
      },
      "execution_count": null,
      "outputs": []
    },
    {
      "cell_type": "code",
      "source": [
        "tf.random.set_seed(42)\n",
        "np.random.seed(42)"
      ],
      "metadata": {
        "id": "9VYRu5PSqB_3"
      },
      "execution_count": null,
      "outputs": []
    },
    {
      "cell_type": "code",
      "source": [
        "model_A =Sequential()\n",
        "model_A.add(Flatten(input_shape=[28,28]))\n",
        "for n_hidden in (300,100,50,50,50):\n",
        "  model_A.add(Dense(n_hidden,activation=\"relu\"))\n",
        "model_A.add(Dense(8,activation=\"softmax\"))\n",
        "model_A.summary()\n",
        "model_A.compile(loss=\"sparse_categorical_crossentropy\",optimizer=tf.keras.optimizers.SGD(learning_rate=1e-3),metrics=[\"accuracy\"])\n",
        "# history = model_A.fit(X_train_A,y_train_A,epochs=20,validation_data=(X_valid_A,y_valid_A))"
      ],
      "metadata": {
        "id": "zUGbAerJoLnA"
      },
      "execution_count": null,
      "outputs": []
    },
    {
      "cell_type": "code",
      "source": [
        "model_A.summary()\n",
        "model_A.save(\"my_model_A.h5\")"
      ],
      "metadata": {
        "id": "oRpvQyOCrqDM"
      },
      "execution_count": null,
      "outputs": []
    },
    {
      "cell_type": "code",
      "source": [
        "model_B =Sequential()\n",
        "model_B.add(Flatten(input_shape=[28,28]))\n",
        "for n_hidden in (300,100,50,50,50):\n",
        "  model_B.add(Dense(n_hidden,activation=\"relu\"))\n",
        "model_B.add(Dense(1,activation=\"sigmoid\"))\n",
        "model_B.summary()\n",
        "model_B.compile(loss=\"binary_crossentropy\",optimizer=tf.keras.optimizers.SGD(learning_rate=1e-3),metrics=[\"accuracy\"])\n",
        "history=model_B.fit(X_train_B,y_train_B,epochs=20,validation_data=(X_valid_B,y_valid_B))"
      ],
      "metadata": {
        "id": "vYyDqht0s5r2"
      },
      "execution_count": null,
      "outputs": []
    },
    {
      "cell_type": "code",
      "source": [
        "# model.save('')"
      ],
      "metadata": {
        "id": "iQk3mziJ6xiU"
      },
      "execution_count": null,
      "outputs": []
    },
    {
      "cell_type": "markdown",
      "source": [
        "**CLONING MODEL A AND USE IT IN MODEL B ON A**"
      ],
      "metadata": {
        "id": "hFWH02nnv0kB"
      }
    },
    {
      "cell_type": "code",
      "source": [
        "model_A=keras.models.load_model(\"my_model_A.h5\")\n",
        "model_B_on_A =keras.models.Sequential(model_A.layers[:1])\n",
        "model_B_on_A.add(keras.layers.Dense(1,activation=\"sigmoid\"))\n",
        "model_B_on_A.summary()"
      ],
      "metadata": {
        "id": "9ATg7YT3ue-M"
      },
      "execution_count": null,
      "outputs": []
    },
    {
      "cell_type": "markdown",
      "source": [
        "**note that model_B_on_A and model_A actually share layers now , so when we train one ,it will update both models.If we want to avoid that,we need to build model_B_on_A on top of a clone of model_A**"
      ],
      "metadata": {
        "id": "8fHuxFTNwAiF"
      }
    },
    {
      "cell_type": "code",
      "source": [
        "model_A_clone=keras.models.clone_model(model_A)\n",
        "model_A_clone.set_weights(model_A.get_weights())\n",
        "model_B_on_A=keras.models.Sequential(model_A_clone.layers[:-1])\n",
        "model_B_on_A.add(keras.layers.Dense(1,activation=\"sigmoid\"))"
      ],
      "metadata": {
        "id": "V7sPlnCmvU55"
      },
      "execution_count": null,
      "outputs": []
    },
    {
      "cell_type": "code",
      "source": [
        "for layers in model_B_on_A.layers[:-1]:\n",
        "    layers.trainable=False"
      ],
      "metadata": {
        "id": "shHIstmWxCJB"
      },
      "execution_count": null,
      "outputs": []
    },
    {
      "cell_type": "code",
      "source": [
        "model_B.compile(loss=\"binary_crossentropy\",optimizer=tf.keras.optimizers.SGD(learning_rate=1e-3),metrics=[\"accuracy\"])\n",
        "history=model_B.fit(X_train_B,y_train_B,epochs=4,validation_data=(X_valid_B,y_valid_B))"
      ],
      "metadata": {
        "id": "8jArneenxMiY"
      },
      "execution_count": null,
      "outputs": []
    },
    {
      "cell_type": "code",
      "source": [
        "for layers in model_B_on_A.layers[:-1]:\n",
        "    layers.trainable=True"
      ],
      "metadata": {
        "id": "WpABNBFdxZVs"
      },
      "execution_count": null,
      "outputs": []
    },
    {
      "cell_type": "code",
      "source": [
        "model_B_on_A.compile(loss=\"binary_crossentropy\",optimizer=tf.keras.optimizers.SGD(learning_rate=1e-3),metrics=[\"accuracy\"])\n",
        "history_B_on_A_1=model_B_on_A.fit(X_train_B,y_train_B,epochs=20,validation_data=(X_valid_B,y_valid_B))"
      ],
      "metadata": {
        "id": "YeG3LvsUxkl_"
      },
      "execution_count": null,
      "outputs": []
    },
    {
      "cell_type": "code",
      "source": [
        ""
      ],
      "metadata": {
        "id": "lEU6LBlQxk_4"
      },
      "execution_count": null,
      "outputs": []
    }
  ]
}